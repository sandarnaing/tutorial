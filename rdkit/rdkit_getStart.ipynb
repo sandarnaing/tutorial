{
  "nbformat": 4,
  "nbformat_minor": 0,
  "metadata": {
    "colab": {
      "provenance": [],
      "authorship_tag": "ABX9TyMM5HeNcz2NeRcPsLDfnr0T",
      "include_colab_link": true
    },
    "kernelspec": {
      "name": "python3",
      "display_name": "Python 3"
    },
    "language_info": {
      "name": "python"
    }
  },
  "cells": [
    {
      "cell_type": "markdown",
      "metadata": {
        "id": "view-in-github",
        "colab_type": "text"
      },
      "source": [
        "<a href=\"https://colab.research.google.com/github/sandarnaing/tutorial/blob/main/rdkit_getStart.ipynb\" target=\"_parent\"><img src=\"https://colab.research.google.com/assets/colab-badge.svg\" alt=\"Open In Colab\"/></a>"
      ]
    },
    {
      "cell_type": "code",
      "execution_count": null,
      "metadata": {
        "id": "OZjzPtxoY428",
        "colab": {
          "base_uri": "https://localhost:8080/"
        },
        "outputId": "371a5efd-e10b-4a5b-a3a4-133e7494e5a0"
      },
      "outputs": [
        {
          "output_type": "stream",
          "name": "stdout",
          "text": [
            "Collecting rdkit\n",
            "  Downloading rdkit-2023.9.6-cp310-cp310-manylinux_2_17_x86_64.manylinux2014_x86_64.whl (34.9 MB)\n",
            "\u001b[2K     \u001b[90m━━━━━━━━━━━━━━━━━━━━━━━━━━━━━━━━━━━━━━━━\u001b[0m \u001b[32m34.9/34.9 MB\u001b[0m \u001b[31m14.2 MB/s\u001b[0m eta \u001b[36m0:00:00\u001b[0m\n",
            "\u001b[?25hRequirement already satisfied: numpy in /usr/local/lib/python3.10/dist-packages (from rdkit) (1.25.2)\n",
            "Requirement already satisfied: Pillow in /usr/local/lib/python3.10/dist-packages (from rdkit) (9.4.0)\n",
            "Installing collected packages: rdkit\n",
            "Successfully installed rdkit-2023.9.6\n"
          ]
        }
      ],
      "source": [
        "pip install rdkit"
      ]
    },
    {
      "cell_type": "markdown",
      "source": [
        "Reading single molecule"
      ],
      "metadata": {
        "id": "4UeJD_kqr1Go"
      }
    },
    {
      "cell_type": "code",
      "source": [
        "from rdkit import Chem"
      ],
      "metadata": {
        "id": "c3_KKUkILSJG"
      },
      "execution_count": null,
      "outputs": []
    },
    {
      "cell_type": "code",
      "source": [
        "m = Chem.MolFromSmiles('CC(=O)NC1=CC=C(C=C1)O')"
      ],
      "metadata": {
        "id": "fsCzaThFLh0z"
      },
      "execution_count": null,
      "outputs": []
    },
    {
      "cell_type": "code",
      "source": [
        "from rdkit.Chem import Draw"
      ],
      "metadata": {
        "id": "UuCF59lmL6xJ"
      },
      "execution_count": null,
      "outputs": []
    },
    {
      "cell_type": "code",
      "source": [
        "img = Draw.MolToImage(m)\n",
        "img"
      ],
      "metadata": {
        "colab": {
          "base_uri": "https://localhost:8080/",
          "height": 317
        },
        "id": "8cUrwlwcMHSf",
        "outputId": "48784ddb-482d-4382-f6ac-65a25792cdbe"
      },
      "execution_count": null,
      "outputs": [
        {
          "output_type": "execute_result",
          "data": {
            "text/plain": [
              "<PIL.PngImagePlugin.PngImageFile image mode=RGB size=300x300>"
            ],
            "image/png": "[encoded data removed]"
          },
          "metadata": {},
          "execution_count": 9
        }
      ]
    },
    {
      "cell_type": "code",
      "source": [
        "# invalid or error\n",
        "m1 = Chem.MolFromSmiles('c1cc1')\n",
        "m1 is None"
      ],
      "metadata": {
        "colab": {
          "base_uri": "https://localhost:8080/"
        },
        "id": "V2xGWR3vMK4J",
        "outputId": "3880a3b0-47a0-4ce4-eb01-b48daeeb21b6"
      },
      "execution_count": null,
      "outputs": [
        {
          "output_type": "stream",
          "name": "stderr",
          "text": [
            "[08:57:13] Can't kekulize mol.  Unkekulized atoms: 0 1 2\n"
          ]
        },
        {
          "output_type": "execute_result",
          "data": {
            "text/plain": [
              "True"
            ]
          },
          "metadata": {},
          "execution_count": 10
        }
      ]
    },
    {
      "cell_type": "markdown",
      "source": [
        "Reading sets of molecules"
      ],
      "metadata": {
        "id": "rXxuS9xar5iS"
      }
    },
    {
      "cell_type": "code",
      "source": [
        "# bash command to combine all molecules in one sdf file\n",
        "# cat *.sdf >> compound_library.sdf"
      ],
      "metadata": {
        "id": "ZmU5FfmdsDeg"
      },
      "execution_count": null,
      "outputs": []
    },
    {
      "cell_type": "code",
      "source": [
        "suppl = Chem.SDMolSupplier('drugs.sdf')\n",
        "for mol in suppl:\n",
        "  print(mol.GetNumAtoms())"
      ],
      "metadata": {
        "colab": {
          "base_uri": "https://localhost:8080/"
        },
        "id": "vjTATHFRMg0q",
        "outputId": "b75a560e-cd21-4e11-8832-57337a50681d"
      },
      "execution_count": null,
      "outputs": [
        {
          "output_type": "stream",
          "name": "stdout",
          "text": [
            "11\n",
            "13\n",
            "10\n",
            "10\n",
            "21\n"
          ]
        }
      ]
    },
    {
      "cell_type": "code",
      "source": [
        "mols = [x for x in suppl]\n",
        "len(mols)"
      ],
      "metadata": {
        "colab": {
          "base_uri": "https://localhost:8080/"
        },
        "id": "DnMysD9gre89",
        "outputId": "d72ff557-04d3-4105-d693-ddcff9019d8c"
      },
      "execution_count": null,
      "outputs": [
        {
          "output_type": "execute_result",
          "data": {
            "text/plain": [
              "5"
            ]
          },
          "metadata": {},
          "execution_count": 8
        }
      ]
    },
    {
      "cell_type": "code",
      "source": [
        "suppl[1].GetNumAtoms()"
      ],
      "metadata": {
        "colab": {
          "base_uri": "https://localhost:8080/"
        },
        "id": "DAOYiNVPrnHO",
        "outputId": "57718e2e-171e-4de8-d16c-a9aa4e49db73"
      },
      "execution_count": null,
      "outputs": [
        {
          "output_type": "execute_result",
          "data": {
            "text/plain": [
              "13"
            ]
          },
          "metadata": {},
          "execution_count": 10
        }
      ]
    },
    {
      "cell_type": "code",
      "source": [
        "with Chem.SDMolSupplier('drugs.sdf') as suppl:\n",
        "  for mol in suppl:\n",
        "    if mol is None: continue\n",
        "    print(mol.GetNumAtoms())"
      ],
      "metadata": {
        "colab": {
          "base_uri": "https://localhost:8080/"
        },
        "id": "qv8ztTpNrsxl",
        "outputId": "e0e6516d-622c-4a8e-f3a0-213822a31d0c"
      },
      "execution_count": null,
      "outputs": [
        {
          "output_type": "stream",
          "name": "stdout",
          "text": [
            "11\n",
            "13\n",
            "10\n",
            "10\n",
            "21\n"
          ]
        }
      ]
    },
    {
      "cell_type": "code",
      "source": [
        "inf = open('drugs.sdf', 'rb')\n",
        "with Chem.ForwardSDMolSupplier(inf) as fsuppl:\n",
        "  for mol in fsuppl:\n",
        "    if mol is None: continue\n",
        "    print(mol.GetNumAtoms())"
      ],
      "metadata": {
        "colab": {
          "base_uri": "https://localhost:8080/"
        },
        "id": "j0P4q0OGsm3i",
        "outputId": "97c4894d-0b12-43ec-c342-e10e0f2482fe"
      },
      "execution_count": null,
      "outputs": [
        {
          "output_type": "stream",
          "name": "stdout",
          "text": [
            "11\n",
            "13\n",
            "10\n",
            "10\n",
            "21\n"
          ]
        }
      ]
    },
    {
      "cell_type": "code",
      "source": [
        "import gzip\n",
        "\n",
        "inf = gzip.open('drugs.sdf.gz')\n",
        "with Chem.ForwardSDMolSupplier(inf) as zsuppl:\n",
        "  ms = [x for x in zsuppl if x is not None]\n",
        "len(ms)"
      ],
      "metadata": {
        "colab": {
          "base_uri": "https://localhost:8080/"
        },
        "id": "_96y0J_Qs3qG",
        "outputId": "617bc1aa-8016-4bc4-d5b4-6c92a9cb78b2"
      },
      "execution_count": null,
      "outputs": [
        {
          "output_type": "execute_result",
          "data": {
            "text/plain": [
              "5"
            ]
          },
          "metadata": {},
          "execution_count": 16
        }
      ]
    },
    {
      "cell_type": "code",
      "source": [
        "i = 0\n",
        "with Chem.MultithreadedSDMolSupplier('drugs.sdf') as sdSupl:\n",
        "  for mol in sdSupl:\n",
        "    if mol is not None:\n",
        "      i += 1\n",
        "\n",
        "print(i)"
      ],
      "metadata": {
        "colab": {
          "base_uri": "https://localhost:8080/"
        },
        "id": "I_i6uVKcthhe",
        "outputId": "e00d9814-43cc-48dc-bbfe-f74e4fecb213"
      },
      "execution_count": null,
      "outputs": [
        {
          "output_type": "stream",
          "name": "stdout",
          "text": [
            "5\n"
          ]
        }
      ]
    },
    {
      "cell_type": "markdown",
      "source": [
        "Writing molecules"
      ],
      "metadata": {
        "id": "_EVlWAt0zb1H"
      }
    },
    {
      "cell_type": "code",
      "source": [
        "m = Chem.MolFromMolFile('structure_1.sdf')\n",
        "Chem.MolToSmiles(m)"
      ],
      "metadata": {
        "colab": {
          "base_uri": "https://localhost:8080/",
          "height": 35
        },
        "id": "sLDXCWqdzX6h",
        "outputId": "d8b29e6a-2eaa-453b-dd9c-cc52173e8ae4"
      },
      "execution_count": null,
      "outputs": [
        {
          "output_type": "execute_result",
          "data": {
            "text/plain": [
              "'CC(=O)Nc1ccc(O)cc1'"
            ],
            "application/vnd.google.colaboratory.intrinsic+json": {
              "type": "string"
            }
          },
          "metadata": {},
          "execution_count": 11
        }
      ]
    },
    {
      "cell_type": "code",
      "source": [
        "Chem.MolToSmiles(m, isomericSmiles=False)"
      ],
      "metadata": {
        "colab": {
          "base_uri": "https://localhost:8080/",
          "height": 35
        },
        "id": "IPWFPQwC2tpw",
        "outputId": "fd1328fa-65af-4904-be29-44905fc82361"
      },
      "execution_count": null,
      "outputs": [
        {
          "output_type": "execute_result",
          "data": {
            "text/plain": [
              "'CC(=O)Nc1ccc(O)cc1'"
            ],
            "application/vnd.google.colaboratory.intrinsic+json": {
              "type": "string"
            }
          },
          "metadata": {},
          "execution_count": 12
        }
      ]
    },
    {
      "cell_type": "code",
      "source": [
        "Draw.MolToImage(m)"
      ],
      "metadata": {
        "colab": {
          "base_uri": "https://localhost:8080/",
          "height": 317
        },
        "id": "L28BRuYk1gZn",
        "outputId": "0a7bada6-52f7-4813-f97d-7f11235c9f81"
      },
      "execution_count": null,
      "outputs": [
        {
          "output_type": "execute_result",
          "data": {
            "text/plain": [
              "<PIL.PngImagePlugin.PngImageFile image mode=RGB size=300x300>"
            ],
            "image/png": "[encoded data removed]"
          },
          "metadata": {},
          "execution_count": 13
        }
      ]
    },
    {
      "cell_type": "code",
      "source": [
        "Chem.Kekulize(m)\n",
        "Chem.MolToSmiles(m, kekuleSmiles = True)"
      ],
      "metadata": {
        "colab": {
          "base_uri": "https://localhost:8080/",
          "height": 35
        },
        "id": "cJ0oQG6luxek",
        "outputId": "423e98b7-5928-4021-dded-e3e638a41bed"
      },
      "execution_count": null,
      "outputs": [
        {
          "output_type": "execute_result",
          "data": {
            "text/plain": [
              "'CC(=O)NC1=CC=C(O)C=C1'"
            ],
            "application/vnd.google.colaboratory.intrinsic+json": {
              "type": "string"
            }
          },
          "metadata": {},
          "execution_count": 14
        }
      ]
    },
    {
      "cell_type": "code",
      "source": [
        "Chem.MolToMolBlock(m)"
      ],
      "metadata": {
        "colab": {
          "base_uri": "https://localhost:8080/",
          "height": 244
        },
        "id": "Lv00ElQ7u8lk",
        "outputId": "8761866f-056d-440f-b68f-a9d89bbb01fe"
      },
      "execution_count": null,
      "outputs": [
        {
          "output_type": "execute_result",
          "data": {
            "text/plain": [
              "'1983\\n     RDKit          2D\\n\\n 11 11  0  0  0  0  0  0  0  0999 V2000\\n    2.8660   -2.5950    0.0000 O   0  0  0  0  0  0  0  0  0  0  0  0\\n    4.5981    1.4050    0.0000 O   0  0  0  0  0  0  0  0  0  0  0  0\\n    2.8660    1.4050    0.0000 N   0  0  0  0  0  0  0  0  0  0  0  0\\n    2.8660    0.4050    0.0000 C   0  0  0  0  0  0  0  0  0  0  0  0\\n    2.0000   -0.0950    0.0000 C   0  0  0  0  0  0  0  0  0  0  0  0\\n    3.7320   -0.0950    0.0000 C   0  0  0  0  0  0  0  0  0  0  0  0\\n    2.0000   -1.0950    0.0000 C   0  0  0  0  0  0  0  0  0  0  0  0\\n    3.7320   -1.0950    0.0000 C   0  0  0  0  0  0  0  0  0  0  0  0\\n    2.8660   -1.5950    0.0000 C   0  0  0  0  0  0  0  0  0  0  0  0\\n    3.7320    1.9050    0.0000 C   0  0  0  0  0  0  0  0  0  0  0  0\\n    3.7320    2.9050    0.0000 C   0  0  0  0  0  0  0  0  0  0  0  0\\n  1  9  1  0\\n  2 10  2  0\\n  3  4  1  0\\n  3 10  1  0\\n  4  5  2  0\\n  4  6  1  0\\n  5  7  1  0\\n  6  8  2  0\\n  7  9  2  0\\n  8  9  1  0\\n 10 11  1  0\\nM  END\\n'"
            ],
            "application/vnd.google.colaboratory.intrinsic+json": {
              "type": "string"
            }
          },
          "metadata": {},
          "execution_count": 15
        }
      ]
    },
    {
      "cell_type": "code",
      "source": [
        "Chem.MolToV3KMolBlock(m)"
      ],
      "metadata": {
        "colab": {
          "base_uri": "https://localhost:8080/",
          "height": 209
        },
        "id": "V1J6_IFh24RS",
        "outputId": "d44b67e3-3446-40f7-d294-9023dfc25957"
      },
      "execution_count": null,
      "outputs": [
        {
          "output_type": "execute_result",
          "data": {
            "text/plain": [
              "'1983\\n     RDKit          2D\\n\\n  0  0  0  0  0  0  0  0  0  0999 V3000\\nM  V30 BEGIN CTAB\\nM  V30 COUNTS 11 11 0 0 0\\nM  V30 BEGIN ATOM\\nM  V30 1 O 2.866000 -2.595000 0.000000 0\\nM  V30 2 O 4.598100 1.405000 0.000000 0\\nM  V30 3 N 2.866000 1.405000 0.000000 0\\nM  V30 4 C 2.866000 0.405000 0.000000 0\\nM  V30 5 C 2.000000 -0.095000 0.000000 0\\nM  V30 6 C 3.732000 -0.095000 0.000000 0\\nM  V30 7 C 2.000000 -1.095000 0.000000 0\\nM  V30 8 C 3.732000 -1.095000 0.000000 0\\nM  V30 9 C 2.866000 -1.595000 0.000000 0\\nM  V30 10 C 3.732000 1.905000 0.000000 0\\nM  V30 11 C 3.732000 2.905000 0.000000 0\\nM  V30 END ATOM\\nM  V30 BEGIN BOND\\nM  V30 1 1 1 9\\nM  V30 2 2 2 10\\nM  V30 3 1 3 4\\nM  V30 4 1 3 10\\nM  V30 5 2 4 5\\nM  V30 6 1 4 6\\nM  V30 7 1 5 7\\nM  V30 8 2 6 8\\nM  V30 9 2 7 9\\nM  V30 10 1 8 9\\nM  V30 11 1 10 11\\nM  V30 END BOND\\nM  V30 END CTAB\\nM  END\\n'"
            ],
            "application/vnd.google.colaboratory.intrinsic+json": {
              "type": "string"
            }
          },
          "metadata": {},
          "execution_count": 16
        }
      ]
    },
    {
      "cell_type": "code",
      "source": [
        "m.SetProp(\"_Name\", \"Acetaminophen\")\n",
        "print(Chem.MolToMolBlock(m))"
      ],
      "metadata": {
        "colab": {
          "base_uri": "https://localhost:8080/"
        },
        "id": "F_n-_dvt3F_L",
        "outputId": "cf704c2d-e9a7-4b36-8df1-e36fbff87a08"
      },
      "execution_count": null,
      "outputs": [
        {
          "output_type": "stream",
          "name": "stdout",
          "text": [
            "Acetaminophen\n",
            "     RDKit          2D\n",
            "\n",
            " 11 11  0  0  0  0  0  0  0  0999 V2000\n",
            "    2.8660   -2.5950    0.0000 O   0  0  0  0  0  0  0  0  0  0  0  0\n",
            "    4.5981    1.4050    0.0000 O   0  0  0  0  0  0  0  0  0  0  0  0\n",
            "    2.8660    1.4050    0.0000 N   0  0  0  0  0  0  0  0  0  0  0  0\n",
            "    2.8660    0.4050    0.0000 C   0  0  0  0  0  0  0  0  0  0  0  0\n",
            "    2.0000   -0.0950    0.0000 C   0  0  0  0  0  0  0  0  0  0  0  0\n",
            "    3.7320   -0.0950    0.0000 C   0  0  0  0  0  0  0  0  0  0  0  0\n",
            "    2.0000   -1.0950    0.0000 C   0  0  0  0  0  0  0  0  0  0  0  0\n",
            "    3.7320   -1.0950    0.0000 C   0  0  0  0  0  0  0  0  0  0  0  0\n",
            "    2.8660   -1.5950    0.0000 C   0  0  0  0  0  0  0  0  0  0  0  0\n",
            "    3.7320    1.9050    0.0000 C   0  0  0  0  0  0  0  0  0  0  0  0\n",
            "    3.7320    2.9050    0.0000 C   0  0  0  0  0  0  0  0  0  0  0  0\n",
            "  1  9  1  0\n",
            "  2 10  2  0\n",
            "  3  4  1  0\n",
            "  3 10  1  0\n",
            "  4  5  2  0\n",
            "  4  6  1  0\n",
            "  5  7  1  0\n",
            "  6  8  2  0\n",
            "  7  9  2  0\n",
            "  8  9  1  0\n",
            " 10 11  1  0\n",
            "M  END\n",
            "\n"
          ]
        }
      ]
    },
    {
      "cell_type": "code",
      "source": [
        "from rdkit.Chem import AllChem\n",
        "AllChem.Compute2DCoords(m)"
      ],
      "metadata": {
        "colab": {
          "base_uri": "https://localhost:8080/"
        },
        "id": "RTnXee-j3jJL",
        "outputId": "05b878b5-9343-4d7e-c1b3-36b0f952bbe8"
      },
      "execution_count": null,
      "outputs": [
        {
          "output_type": "execute_result",
          "data": {
            "text/plain": [
              "0"
            ]
          },
          "metadata": {},
          "execution_count": 18
        }
      ]
    },
    {
      "cell_type": "code",
      "source": [
        "print(Chem.MolToMolBlock(m))"
      ],
      "metadata": {
        "colab": {
          "base_uri": "https://localhost:8080/"
        },
        "id": "nwjRLstt4usD",
        "outputId": "7d595f5f-49ec-41fb-c79b-234450f8291b"
      },
      "execution_count": null,
      "outputs": [
        {
          "output_type": "stream",
          "name": "stdout",
          "text": [
            "Acetaminophen\n",
            "     RDKit          2D\n",
            "\n",
            " 11 11  0  0  0  0  0  0  0  0999 V2000\n",
            "    4.0738    0.6025    0.0000 O   0  0  0  0  0  0  0  0  0  0  0  0\n",
            "   -2.3942    1.5592    0.0000 O   0  0  0  0  0  0  0  0  0  0  0  0\n",
            "   -1.7218   -0.9504    0.0000 N   0  0  0  0  0  0  0  0  0  0  0  0\n",
            "   -0.2729   -0.5622    0.0000 C   0  0  0  0  0  0  0  0  0  0  0  0\n",
            "    0.1153    0.8867    0.0000 C   0  0  0  0  0  0  0  0  0  0  0  0\n",
            "    0.7878   -1.6228    0.0000 C   0  0  0  0  0  0  0  0  0  0  0  0\n",
            "    1.5642    1.2750    0.0000 C   0  0  0  0  0  0  0  0  0  0  0  0\n",
            "    2.2367   -1.2346    0.0000 C   0  0  0  0  0  0  0  0  0  0  0  0\n",
            "    2.6249    0.2143    0.0000 C   0  0  0  0  0  0  0  0  0  0  0  0\n",
            "   -2.7824    0.1103    0.0000 C   0  0  0  0  0  0  0  0  0  0  0  0\n",
            "   -4.2313   -0.2780    0.0000 C   0  0  0  0  0  0  0  0  0  0  0  0\n",
            "  1  9  1  0\n",
            "  2 10  2  0\n",
            "  3  4  1  0\n",
            "  3 10  1  0\n",
            "  4  5  2  0\n",
            "  4  6  1  0\n",
            "  5  7  1  0\n",
            "  6  8  2  0\n",
            "  7  9  2  0\n",
            "  8  9  1  0\n",
            " 10 11  1  0\n",
            "M  END\n",
            "\n"
          ]
        }
      ]
    },
    {
      "cell_type": "code",
      "source": [
        "m2 = Chem.AddHs(m)\n",
        "params = AllChem.ETKDGv3()\n",
        "params.randomSeed = 0xf00d #optional\n",
        "AllChem.EmbedMolecule(m2, params)"
      ],
      "metadata": {
        "colab": {
          "base_uri": "https://localhost:8080/"
        },
        "id": "E43pDz1M3zEj",
        "outputId": "a3ee940f-987d-4bdb-dd83-a860f0906aeb"
      },
      "execution_count": null,
      "outputs": [
        {
          "output_type": "execute_result",
          "data": {
            "text/plain": [
              "0"
            ]
          },
          "metadata": {},
          "execution_count": 20
        }
      ]
    },
    {
      "cell_type": "code",
      "source": [
        "print(Chem.MolToMolBlock(m2))"
      ],
      "metadata": {
        "colab": {
          "base_uri": "https://localhost:8080/"
        },
        "id": "suGtGFAB5OxS",
        "outputId": "6780be92-2647-4a9b-ba4e-9e695dedc186"
      },
      "execution_count": null,
      "outputs": [
        {
          "output_type": "stream",
          "name": "stdout",
          "text": [
            "Acetaminophen\n",
            "     RDKit          3D\n",
            "\n",
            " 20 20  0  0  0  0  0  0  0  0999 V2000\n",
            "    4.1372    0.0558    0.4083 O   0  0  0  0  0  0  0  0  0  0  0  0\n",
            "   -1.8163    0.8669    1.6513 O   0  0  0  0  0  0  0  0  0  0  0  0\n",
            "   -1.3233   -0.3023   -0.3006 N   0  0  0  0  0  0  0  0  0  0  0  0\n",
            "    0.0759   -0.2031   -0.1235 C   0  0  0  0  0  0  0  0  0  0  0  0\n",
            "    0.7375    0.8733   -0.6560 C   0  0  0  0  0  0  0  0  0  0  0  0\n",
            "    0.7259   -1.2105    0.5895 C   0  0  0  0  0  0  0  0  0  0  0  0\n",
            "    2.1016    0.9489   -0.4706 C   0  0  0  0  0  0  0  0  0  0  0  0\n",
            "    2.0882   -1.1063    0.7575 C   0  0  0  0  0  0  0  0  0  0  0  0\n",
            "    2.7585   -0.0310    0.2271 C   0  0  0  0  0  0  0  0  0  0  0  0\n",
            "   -2.2341    0.2532    0.6214 C   0  0  0  0  0  0  0  0  0  0  0  0\n",
            "   -3.6795    0.0999    0.3535 C   0  0  0  0  0  0  0  0  0  0  0  0\n",
            "    4.5925    0.9255    0.6512 H   0  0  0  0  0  0  0  0  0  0  0  0\n",
            "   -1.6878   -0.7968   -1.1306 H   0  0  0  0  0  0  0  0  0  0  0  0\n",
            "    0.1775    1.6247   -1.2005 H   0  0  0  0  0  0  0  0  0  0  0  0\n",
            "    0.1639   -2.0475    0.9955 H   0  0  0  0  0  0  0  0  0  0  0  0\n",
            "    2.6375    1.7999   -0.8894 H   0  0  0  0  0  0  0  0  0  0  0  0\n",
            "    2.6336   -1.8709    1.3074 H   0  0  0  0  0  0  0  0  0  0  0  0\n",
            "   -3.8194    0.1423   -0.7457 H   0  0  0  0  0  0  0  0  0  0  0  0\n",
            "   -4.2873    0.8918    0.8388 H   0  0  0  0  0  0  0  0  0  0  0  0\n",
            "   -3.9821   -0.9139    0.7297 H   0  0  0  0  0  0  0  0  0  0  0  0\n",
            "  1  9  1  0\n",
            "  2 10  2  0\n",
            "  3  4  1  0\n",
            "  3 10  1  0\n",
            "  4  5  2  0\n",
            "  4  6  1  0\n",
            "  5  7  1  0\n",
            "  6  8  2  0\n",
            "  7  9  2  0\n",
            "  8  9  1  0\n",
            " 10 11  1  0\n",
            "  1 12  1  0\n",
            "  3 13  1  0\n",
            "  5 14  1  0\n",
            "  6 15  1  0\n",
            "  7 16  1  0\n",
            "  8 17  1  0\n",
            " 11 18  1  0\n",
            " 11 19  1  0\n",
            " 11 20  1  0\n",
            "M  END\n",
            "\n"
          ]
        }
      ]
    },
    {
      "cell_type": "code",
      "source": [
        "Draw.MolToImage(m2)"
      ],
      "metadata": {
        "colab": {
          "base_uri": "https://localhost:8080/",
          "height": 317
        },
        "id": "lTlEMeM95S3I",
        "outputId": "50f95571-ddbb-455b-c837-9893c15af410"
      },
      "execution_count": null,
      "outputs": [
        {
          "output_type": "execute_result",
          "data": {
            "text/plain": [
              "<PIL.PngImagePlugin.PngImageFile image mode=RGB size=300x300>"
            ],
            "image/png": "[encoded data removed]"
          },
          "metadata": {},
          "execution_count": 22
        }
      ]
    },
    {
      "cell_type": "code",
      "source": [],
      "metadata": {
        "id": "TtJCHWP05fqQ"
      },
      "execution_count": null,
      "outputs": []
    }
  ]
}
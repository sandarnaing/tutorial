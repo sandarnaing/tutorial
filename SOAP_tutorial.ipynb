{
 "cells": [
  {
   "cell_type": "code",
   "execution_count": 1,
   "metadata": {},
   "outputs": [
    {
     "name": "stdout",
     "output_type": "stream",
     "text": [
      "Defaulting to user installation because normal site-packages is not writeable\n",
      "Collecting ase\n",
      "  Downloading ase-3.23.0-py3-none-any.whl (2.9 MB)\n",
      "\u001b[K     |████████████████████████████████| 2.9 MB 3.2 MB/s eta 0:00:01\n",
      "\u001b[?25hRequirement already satisfied: numpy>=1.18.5 in /Users/snai0044/Library/Python/3.9/lib/python/site-packages (from ase) (2.0.1)\n",
      "Collecting matplotlib>=3.3.4\n",
      "  Downloading matplotlib-3.9.2-cp39-cp39-macosx_11_0_arm64.whl (7.8 MB)\n",
      "\u001b[K     |████████████████████████████████| 7.8 MB 14.5 MB/s eta 0:00:01\n",
      "\u001b[?25hCollecting scipy>=1.6.0\n",
      "  Downloading scipy-1.13.1-cp39-cp39-macosx_12_0_arm64.whl (30.3 MB)\n",
      "\u001b[K     |████████████████████████████████| 30.3 MB 19.4 MB/s eta 0:00:01\n",
      "\u001b[?25hCollecting fonttools>=4.22.0\n",
      "  Downloading fonttools-4.53.1-cp39-cp39-macosx_11_0_arm64.whl (2.2 MB)\n",
      "\u001b[K     |████████████████████████████████| 2.2 MB 35.3 MB/s eta 0:00:01\n",
      "\u001b[?25hRequirement already satisfied: python-dateutil>=2.7 in /Users/snai0044/Library/Python/3.9/lib/python/site-packages (from matplotlib>=3.3.4->ase) (2.9.0.post0)\n",
      "Collecting importlib-resources>=3.2.0\n",
      "  Downloading importlib_resources-6.4.4-py3-none-any.whl (35 kB)\n",
      "Collecting contourpy>=1.0.1\n",
      "  Downloading contourpy-1.3.0-cp39-cp39-macosx_11_0_arm64.whl (249 kB)\n",
      "\u001b[K     |████████████████████████████████| 249 kB 3.8 MB/s eta 0:00:01\n",
      "\u001b[?25hCollecting kiwisolver>=1.3.1\n",
      "  Downloading kiwisolver-1.4.5-cp39-cp39-macosx_11_0_arm64.whl (66 kB)\n",
      "\u001b[K     |████████████████████████████████| 66 kB 23.9 MB/s eta 0:00:01\n",
      "\u001b[?25hRequirement already satisfied: packaging>=20.0 in /Users/snai0044/Library/Python/3.9/lib/python/site-packages (from matplotlib>=3.3.4->ase) (24.1)\n",
      "Collecting pyparsing>=2.3.1\n",
      "  Downloading pyparsing-3.1.4-py3-none-any.whl (104 kB)\n",
      "\u001b[K     |████████████████████████████████| 104 kB 51.1 MB/s eta 0:00:01\n",
      "\u001b[?25hCollecting cycler>=0.10\n",
      "  Downloading cycler-0.12.1-py3-none-any.whl (8.3 kB)\n",
      "Requirement already satisfied: pillow>=8 in /Users/snai0044/Library/Python/3.9/lib/python/site-packages (from matplotlib>=3.3.4->ase) (10.4.0)\n",
      "Requirement already satisfied: zipp>=3.1.0 in /Users/snai0044/Library/Python/3.9/lib/python/site-packages (from importlib-resources>=3.2.0->matplotlib>=3.3.4->ase) (3.20.0)\n",
      "Requirement already satisfied: six>=1.5 in /Library/Developer/CommandLineTools/Library/Frameworks/Python3.framework/Versions/3.9/lib/python3.9/site-packages (from python-dateutil>=2.7->matplotlib>=3.3.4->ase) (1.15.0)\n",
      "Installing collected packages: pyparsing, kiwisolver, importlib-resources, fonttools, cycler, contourpy, scipy, matplotlib, ase\n",
      "Successfully installed ase-3.23.0 contourpy-1.3.0 cycler-0.12.1 fonttools-4.53.1 importlib-resources-6.4.4 kiwisolver-1.4.5 matplotlib-3.9.2 pyparsing-3.1.4 scipy-1.13.1\n",
      "\u001b[33mWARNING: You are using pip version 21.2.4; however, version 24.2 is available.\n",
      "You should consider upgrading via the '/Library/Developer/CommandLineTools/usr/bin/python3 -m pip install --upgrade pip' command.\u001b[0m\n",
      "Note: you may need to restart the kernel to use updated packages.\n"
     ]
    }
   ],
   "source": [
    "pip install ase"
   ]
  },
  {
   "cell_type": "code",
   "execution_count": 5,
   "metadata": {},
   "outputs": [],
   "source": [
    "from ase import Atoms, Atom"
   ]
  },
  {
   "cell_type": "code",
   "execution_count": 7,
   "metadata": {},
   "outputs": [],
   "source": [
    "import numpy, math, random"
   ]
  },
  {
   "cell_type": "code",
   "execution_count": 8,
   "metadata": {},
   "outputs": [
    {
     "name": "stdout",
     "output_type": "stream",
     "text": [
      "Defaulting to user installation because normal site-packages is not writeable\n",
      "\u001b[31mERROR: Could not find a version that satisfies the requirement visualise (from versions: none)\u001b[0m\n",
      "\u001b[31mERROR: No matching distribution found for visualise\u001b[0m\n",
      "\u001b[33mWARNING: You are using pip version 21.2.4; however, version 24.2 is available.\n",
      "You should consider upgrading via the '/Library/Developer/CommandLineTools/usr/bin/python3 -m pip install --upgrade pip' command.\u001b[0m\n",
      "Note: you may need to restart the kernel to use updated packages.\n"
     ]
    }
   ],
   "source": [
    "pip install visualise"
   ]
  },
  {
   "cell_type": "code",
   "execution_count": 9,
   "metadata": {},
   "outputs": [
    {
     "name": "stdout",
     "output_type": "stream",
     "text": [
      "Defaulting to user installation because normal site-packages is not writeable\n",
      "Collecting dscribe\n",
      "  Downloading dscribe-2.1.1-cp39-cp39-macosx_11_0_arm64.whl (690 kB)\n",
      "\u001b[K     |████████████████████████████████| 690 kB 8.3 MB/s eta 0:00:01\n",
      "\u001b[?25hRequirement already satisfied: ase>=3.19.0 in /Users/snai0044/Library/Python/3.9/lib/python/site-packages (from dscribe) (3.23.0)\n",
      "Requirement already satisfied: scipy in /Users/snai0044/Library/Python/3.9/lib/python/site-packages (from dscribe) (1.13.1)\n",
      "Collecting joblib>=1.0.0\n",
      "  Downloading joblib-1.4.2-py3-none-any.whl (301 kB)\n",
      "\u001b[K     |████████████████████████████████| 301 kB 13.6 MB/s eta 0:00:01\n",
      "\u001b[?25hCollecting scikit-learn\n",
      "  Downloading scikit_learn-1.5.1-cp39-cp39-macosx_12_0_arm64.whl (11.0 MB)\n",
      "\u001b[K     |████████████████████████████████| 11.0 MB 11.8 MB/s eta 0:00:01\n",
      "\u001b[?25hCollecting sparse\n",
      "  Downloading sparse-0.15.4-py2.py3-none-any.whl (237 kB)\n",
      "\u001b[K     |████████████████████████████████| 237 kB 16.9 MB/s eta 0:00:01\n",
      "\u001b[?25hRequirement already satisfied: numpy in /Users/snai0044/Library/Python/3.9/lib/python/site-packages (from dscribe) (2.0.1)\n",
      "Requirement already satisfied: matplotlib>=3.3.4 in /Users/snai0044/Library/Python/3.9/lib/python/site-packages (from ase>=3.19.0->dscribe) (3.9.2)\n",
      "Requirement already satisfied: packaging>=20.0 in /Users/snai0044/Library/Python/3.9/lib/python/site-packages (from matplotlib>=3.3.4->ase>=3.19.0->dscribe) (24.1)\n",
      "Requirement already satisfied: python-dateutil>=2.7 in /Users/snai0044/Library/Python/3.9/lib/python/site-packages (from matplotlib>=3.3.4->ase>=3.19.0->dscribe) (2.9.0.post0)\n",
      "Requirement already satisfied: importlib-resources>=3.2.0 in /Users/snai0044/Library/Python/3.9/lib/python/site-packages (from matplotlib>=3.3.4->ase>=3.19.0->dscribe) (6.4.4)\n",
      "Requirement already satisfied: pyparsing>=2.3.1 in /Users/snai0044/Library/Python/3.9/lib/python/site-packages (from matplotlib>=3.3.4->ase>=3.19.0->dscribe) (3.1.4)\n",
      "Requirement already satisfied: cycler>=0.10 in /Users/snai0044/Library/Python/3.9/lib/python/site-packages (from matplotlib>=3.3.4->ase>=3.19.0->dscribe) (0.12.1)\n",
      "Requirement already satisfied: pillow>=8 in /Users/snai0044/Library/Python/3.9/lib/python/site-packages (from matplotlib>=3.3.4->ase>=3.19.0->dscribe) (10.4.0)\n",
      "Requirement already satisfied: contourpy>=1.0.1 in /Users/snai0044/Library/Python/3.9/lib/python/site-packages (from matplotlib>=3.3.4->ase>=3.19.0->dscribe) (1.3.0)\n",
      "Requirement already satisfied: kiwisolver>=1.3.1 in /Users/snai0044/Library/Python/3.9/lib/python/site-packages (from matplotlib>=3.3.4->ase>=3.19.0->dscribe) (1.4.5)\n",
      "Requirement already satisfied: fonttools>=4.22.0 in /Users/snai0044/Library/Python/3.9/lib/python/site-packages (from matplotlib>=3.3.4->ase>=3.19.0->dscribe) (4.53.1)\n",
      "Requirement already satisfied: zipp>=3.1.0 in /Users/snai0044/Library/Python/3.9/lib/python/site-packages (from importlib-resources>=3.2.0->matplotlib>=3.3.4->ase>=3.19.0->dscribe) (3.20.0)\n",
      "Requirement already satisfied: six>=1.5 in /Library/Developer/CommandLineTools/Library/Frameworks/Python3.framework/Versions/3.9/lib/python3.9/site-packages (from python-dateutil>=2.7->matplotlib>=3.3.4->ase>=3.19.0->dscribe) (1.15.0)\n",
      "Collecting threadpoolctl>=3.1.0\n",
      "  Downloading threadpoolctl-3.5.0-py3-none-any.whl (18 kB)\n",
      "Collecting numba>=0.49\n",
      "  Downloading numba-0.60.0-cp39-cp39-macosx_11_0_arm64.whl (2.7 MB)\n",
      "\u001b[K     |████████████████████████████████| 2.7 MB 16.8 MB/s eta 0:00:01\n",
      "\u001b[?25hCollecting llvmlite<0.44,>=0.43.0dev0\n",
      "  Downloading llvmlite-0.43.0-cp39-cp39-macosx_11_0_arm64.whl (28.8 MB)\n",
      "\u001b[K     |████████████████████████████████| 28.8 MB 19.0 MB/s eta 0:00:01\n",
      "\u001b[?25hInstalling collected packages: llvmlite, threadpoolctl, numba, joblib, sparse, scikit-learn, dscribe\n",
      "Successfully installed dscribe-2.1.1 joblib-1.4.2 llvmlite-0.43.0 numba-0.60.0 scikit-learn-1.5.1 sparse-0.15.4 threadpoolctl-3.5.0\n",
      "\u001b[33mWARNING: You are using pip version 21.2.4; however, version 24.2 is available.\n",
      "You should consider upgrading via the '/Library/Developer/CommandLineTools/usr/bin/python3 -m pip install --upgrade pip' command.\u001b[0m\n",
      "Note: you may need to restart the kernel to use updated packages.\n"
     ]
    }
   ],
   "source": [
    "pip install dscribe"
   ]
  },
  {
   "cell_type": "code",
   "execution_count": 10,
   "metadata": {},
   "outputs": [],
   "source": [
    "from dscribe.descriptors import SOAP"
   ]
  },
  {
   "cell_type": "code",
   "execution_count": 11,
   "metadata": {},
   "outputs": [
    {
     "ename": "ModuleNotFoundError",
     "evalue": "No module named 'view'",
     "output_type": "error",
     "traceback": [
      "\u001b[0;31m---------------------------------------------------------------------------\u001b[0m",
      "\u001b[0;31mModuleNotFoundError\u001b[0m                       Traceback (most recent call last)",
      "Cell \u001b[0;32mIn[11], line 1\u001b[0m\n\u001b[0;32m----> 1\u001b[0m \u001b[38;5;28;01mimport\u001b[39;00m \u001b[38;5;21;01mview\u001b[39;00m\n",
      "\u001b[0;31mModuleNotFoundError\u001b[0m: No module named 'view'"
     ]
    }
   ],
   "source": [
    "import view"
   ]
  },
  {
   "cell_type": "code",
   "execution_count": null,
   "metadata": {},
   "outputs": [],
   "source": []
  }
 ],
 "metadata": {
  "kernelspec": {
   "display_name": "Python 3",
   "language": "python",
   "name": "python3"
  },
  "language_info": {
   "codemirror_mode": {
    "name": "ipython",
    "version": 3
   },
   "file_extension": ".py",
   "mimetype": "text/x-python",
   "name": "python",
   "nbconvert_exporter": "python",
   "pygments_lexer": "ipython3",
   "version": "3.9.6"
  }
 },
 "nbformat": 4,
 "nbformat_minor": 2
}
